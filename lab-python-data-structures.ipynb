{
 "cells": [
  {
   "cell_type": "markdown",
   "metadata": {
    "tags": []
   },
   "source": [
    "# Lab | Data Structures "
   ]
  },
  {
   "cell_type": "markdown",
   "metadata": {},
   "source": [
    "## Exercise: Managing Customer Orders\n",
    "\n",
    "As part of a business venture, you are starting an online store that sells various products. To ensure smooth operations, you need to develop a program that manages customer orders and inventory.\n",
    "\n",
    "Follow the steps below to complete the exercise:\n",
    "\n",
    "1. Define a list called `products` that contains the following items: \"t-shirt\", \"mug\", \"hat\", \"book\", \"keychain\".\n",
    "\n",
    "2. Create an empty dictionary called `inventory`.\n",
    "\n",
    "3. Ask the user to input the quantity of each product available in the inventory. Use the product names from the `products` list as keys in the `inventory` dictionary and assign the respective quantities as values.\n",
    "\n",
    "4. Create an empty set called `customer_orders`.\n",
    "\n",
    "5. Ask the user to input the name of three products that a customer wants to order (from those in the products list, meaning three products out of \"t-shirt\", \"mug\", \"hat\", \"book\" or \"keychain\". Add each product name to the `customer_orders` set.\n",
    "\n",
    "6. Print the products in the `customer_orders` set.\n",
    "\n",
    "7. Calculate the following order statistics:\n",
    "   - Total Products Ordered: The total number of products in the `customer_orders` set.\n",
    "   - Percentage of Products Ordered: The percentage of products ordered compared to the total available products.\n",
    "   \n",
    "   Store these statistics in a tuple called `order_status`.\n",
    "\n",
    "8. Print the order statistics using the following format:\n",
    "   ```\n",
    "   Order Statistics:\n",
    "   Total Products Ordered: <total_products_ordered>\n",
    "   Percentage of Products Ordered: <percentage_ordered>% \n",
    "   ```\n",
    "\n",
    "9. Update the inventory by subtracting 1 from the quantity of each product. Modify the `inventory` dictionary accordingly.\n",
    "\n",
    "10. Print the updated inventory, displaying the quantity of each product on separate lines.\n",
    "\n",
    "Solve the exercise by implementing the steps using the Python concepts of lists, dictionaries, sets, and basic input/output operations. "
   ]
  },
  {
   "cell_type": "code",
   "execution_count": 1,
   "metadata": {},
   "outputs": [
    {
     "name": "stdout",
     "output_type": "stream",
     "text": [
      "Current Inventory:\n",
      "t-shirt: 3\n",
      "mug: 3\n",
      "hat: 3\n",
      "book: 3\n",
      "keychain: 3\n"
     ]
    }
   ],
   "source": [
    "# Setting inventory, list products in 'product' list and run to add inventory quantities. Current inventory will be shown in the end.\n",
    "products = [\"t-shirt\", \"mug\", \"hat\", \"book\", \"keychain\"]\n",
    "\n",
    "inventory = {}\n",
    "for product in products:\n",
    "    inventory[product]=int(input(f\"Please input quantity of {product}\"))\n",
    "\n",
    "print(\"Current Inventory:\")\n",
    "for key in inventory:\n",
    "    print(f\"{key}: {inventory.get(key)}\")"
   ]
  },
  {
   "cell_type": "code",
   "execution_count": 2,
   "metadata": {},
   "outputs": [
    {
     "name": "stdout",
     "output_type": "stream",
     "text": [
      "Customer Order:\n",
      "{'mug', 'hat', 'book'}\n"
     ]
    }
   ],
   "source": [
    "# Total of 3 orders can be made by the customer by inputting name of product to be ordered. As the assignment requests the order to be placed in a set the orders cannot be duplicated.\n",
    "customer_orders = set()\n",
    "\n",
    "for instance in range(3):\n",
    "    order = input(\"What items would you like to order?\")\n",
    "    while order not in products:\n",
    "            order = input(f\"Please choose from available items: {products}\")\n",
    "    customer_orders.add(order)\n",
    "\n",
    "print(\"Customer Order:\")\n",
    "print(customer_orders)"
   ]
  },
  {
   "cell_type": "code",
   "execution_count": 3,
   "metadata": {},
   "outputs": [
    {
     "name": "stdout",
     "output_type": "stream",
     "text": [
      "20.0\n",
      "Order Statistics: \n",
      "Total Products Ordered: 3 \n",
      "Percentage of Products Ordered: 20.0 %\n",
      "\n",
      "Remaining Inventory:\n",
      "t-shirt: 3\n",
      "mug: 2\n",
      "hat: 2\n",
      "book: 2\n",
      "keychain: 3\n"
     ]
    }
   ],
   "source": [
    "total_order = len(customer_orders)\n",
    "\n",
    "total_inventory = sum(inventory.values())\n",
    "\n",
    "perc_ordered = ((total_order/total_inventory)*100)\n",
    "print(perc_ordered)\n",
    "\n",
    "order_status = (total_order, perc_ordered)\n",
    "\n",
    "print(f\"Order Statistics: \\nTotal Products Ordered: {total_order} \\nPercentage of Products Ordered: {perc_ordered} %\")\n",
    "for order in customer_orders:\n",
    "    if order in inventory:\n",
    "        inventory[order] = inventory.get(order)-1\n",
    "print(\"\")\n",
    "print(\"Remaining Inventory:\")\n",
    "for key in inventory:\n",
    "    print(f\"{key}: {inventory.get(key)}\")"
   ]
  }
 ],
 "metadata": {
  "kernelspec": {
   "display_name": "Python 3 (ipykernel)",
   "language": "python",
   "name": "python3"
  },
  "language_info": {
   "codemirror_mode": {
    "name": "ipython",
    "version": 3
   },
   "file_extension": ".py",
   "mimetype": "text/x-python",
   "name": "python",
   "nbconvert_exporter": "python",
   "pygments_lexer": "ipython3",
   "version": "3.11.5"
  }
 },
 "nbformat": 4,
 "nbformat_minor": 4
}
